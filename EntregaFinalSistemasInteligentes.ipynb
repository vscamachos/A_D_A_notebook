{
  "nbformat": 4,
  "nbformat_minor": 0,
  "metadata": {
    "colab": {
      "name": "EntregaFinalSistemasInteligentes.ipynb",
      "provenance": [],
      "authorship_tag": "ABX9TyPaRBTgsLW3b5fXVPUhHi+T",
      "include_colab_link": true
    },
    "kernelspec": {
      "name": "python3",
      "display_name": "Python 3"
    }
  },
  "cells": [
    {
      "cell_type": "markdown",
      "metadata": {
        "id": "view-in-github",
        "colab_type": "text"
      },
      "source": [
        "<a href=\"https://colab.research.google.com/github/vscamachos/notebookColabs/blob/master/EntregaFinalSistemasInteligentes.ipynb\" target=\"_parent\"><img src=\"https://colab.research.google.com/assets/colab-badge.svg\" alt=\"Open In Colab\"/></a>"
      ]
    },
    {
      "cell_type": "code",
      "metadata": {
        "id": "8RYV6jHW620h"
      },
      "source": [
        "import tensorflow as tf # tensorflow 2.0\r\n",
        "from keras.datasets import mnist\r\n",
        "import keras\r\n",
        "import numpy as np\r\n",
        "seed=0\r\n",
        "np.random.seed(seed) # fix random seed\r\n",
        "tf.random.set_seed(seed)\r\n",
        "# input image dimensions\r\n",
        "num_classes = 10 # 10 digits\r\n",
        "\r\n",
        "img_rows, img_cols = 28, 28 # number of pixels \r\n",
        "\r\n",
        "# the data, shuffled and split between train and test sets\r\n",
        "(X_train, Y_train), (X_test, Y_test) = mnist.load_data()"
      ],
      "execution_count": 14,
      "outputs": []
    },
    {
      "cell_type": "code",
      "metadata": {
        "colab": {
          "base_uri": "https://localhost:8080/"
        },
        "id": "FrA-qqzQ8aOE",
        "outputId": "473e20e7-549e-40d7-9343-e20fcf665fd6"
      },
      "source": [
        "Y_train"
      ],
      "execution_count": 15,
      "outputs": [
        {
          "output_type": "execute_result",
          "data": {
            "text/plain": [
              "array([5, 0, 4, ..., 5, 6, 8], dtype=uint8)"
            ]
          },
          "metadata": {
            "tags": []
          },
          "execution_count": 15
        }
      ]
    },
    {
      "cell_type": "code",
      "metadata": {
        "id": "8eKeAthi7fMS"
      },
      "source": [
        "X_train = X_train.reshape(X_train.shape[0], img_rows, img_cols, 1) \r\n",
        "X_test = X_test.reshape(X_test.shape[0], img_rows, img_cols, 1)\r\n",
        "input_shape = (img_rows, img_cols, 1)\r\n",
        "\r\n",
        "# cast floats to single precision\r\n",
        "X_train = X_train.astype('float32')\r\n",
        "X_test = X_test.astype('float32')\r\n",
        "\r\n",
        "# rescale data in interval [0,1]\r\n",
        "X_train /= 255\r\n",
        "X_test /= 255"
      ],
      "execution_count": 16,
      "outputs": []
    },
    {
      "cell_type": "code",
      "metadata": {
        "id": "wN7pz9zR8Eek"
      },
      "source": [
        "Y_train = keras.utils.to_categorical(Y_train, num_classes)\r\n",
        "Y_test = keras.utils.to_categorical(Y_test, num_classes)"
      ],
      "execution_count": 17,
      "outputs": []
    },
    {
      "cell_type": "markdown",
      "metadata": {
        "id": "TZN6EltI85hZ"
      },
      "source": [
        "# Building the model"
      ]
    },
    {
      "cell_type": "code",
      "metadata": {
        "id": "PdeV3xVu85Bo"
      },
      "source": [
        "from keras.models import Sequential\r\n",
        "from keras.layers import Dense, Conv2D, Flatten \r\n",
        "from keras.layers import MaxPooling2D, Dropout\r\n",
        "model = Sequential()#add model layers\r\n",
        "model.add(Conv2D(32, kernel_size=(5, 5),\r\n",
        "                     activation='relu',\r\n",
        "                     input_shape=input_shape))\r\n",
        "model.add(MaxPooling2D(pool_size=(2, 2)))\r\n",
        "# add second convolutional layer with 20 filters\r\n",
        "model.add(Conv2D(64, (5, 5), activation='relu'))\r\n",
        "    \r\n",
        "# add 2D pooling layer\r\n",
        "model.add(MaxPooling2D(pool_size=(2, 2)))\r\n",
        "    \r\n",
        "# flatten data\r\n",
        "model.add(Flatten())\r\n",
        "    \r\n",
        "# add a dense all-to-all relu layer\r\n",
        "model.add(Dense(1024, activation='relu'))\r\n",
        "    \r\n",
        "# apply dropout with rate 0.5\r\n",
        "model.add(Dropout(0.5))\r\n",
        "    \r\n",
        "# soft-max layer\r\n",
        "model.add(Dense(num_classes, activation='softmax'))"
      ],
      "execution_count": 19,
      "outputs": []
    },
    {
      "cell_type": "markdown",
      "metadata": {
        "id": "cEVnWGRm9KME"
      },
      "source": [
        "# Compiling the model"
      ]
    },
    {
      "cell_type": "code",
      "metadata": {
        "id": "7wZt8oyc9NOy"
      },
      "source": [
        "#compile model using accuracy to measure model performance\r\n",
        "model.compile(optimizer='adam', loss='categorical_crossentropy', metrics=['accuracy'])"
      ],
      "execution_count": 20,
      "outputs": []
    },
    {
      "cell_type": "markdown",
      "metadata": {
        "id": "lUwpd1oI9aMO"
      },
      "source": [
        "# Training the model"
      ]
    },
    {
      "cell_type": "code",
      "metadata": {
        "colab": {
          "base_uri": "https://localhost:8080/"
        },
        "id": "19ez_htq9aBS",
        "outputId": "7f8dc75b-f9b7-41fb-afa6-d88c4382ab69"
      },
      "source": [
        "#train the model\r\n",
        "model.fit(X_train, Y_train, validation_data=(X_test, Y_test), epochs=3)"
      ],
      "execution_count": 21,
      "outputs": [
        {
          "output_type": "stream",
          "text": [
            "Epoch 1/3\n",
            "1875/1875 [==============================] - 92s 49ms/step - loss: 0.1197 - accuracy: 0.9640 - val_loss: 0.0280 - val_accuracy: 0.9908\n",
            "Epoch 2/3\n",
            "1875/1875 [==============================] - 92s 49ms/step - loss: 0.0431 - accuracy: 0.9875 - val_loss: 0.0304 - val_accuracy: 0.9920\n",
            "Epoch 3/3\n",
            "1875/1875 [==============================] - 91s 49ms/step - loss: 0.0310 - accuracy: 0.9902 - val_loss: 0.0348 - val_accuracy: 0.9888\n"
          ],
          "name": "stdout"
        },
        {
          "output_type": "execute_result",
          "data": {
            "text/plain": [
              "<tensorflow.python.keras.callbacks.History at 0x7f8608674668>"
            ]
          },
          "metadata": {
            "tags": []
          },
          "execution_count": 21
        }
      ]
    },
    {
      "cell_type": "markdown",
      "metadata": {
        "id": "rlmTLsbJ9eqz"
      },
      "source": [
        "# Evaluate the model"
      ]
    },
    {
      "cell_type": "code",
      "metadata": {
        "colab": {
          "base_uri": "https://localhost:8080/"
        },
        "id": "NyNG-g1g9g_g",
        "outputId": "ff0a3823-bae4-42f6-b93a-fbdff3846c00"
      },
      "source": [
        "# evaluate the model\r\n",
        "score = model.evaluate(X_test, Y_test, verbose=1)\r\n",
        "\r\n",
        "# print performance\r\n",
        "print()\r\n",
        "print('Test loss:', score[0])\r\n",
        "print('Test accuracy:', score[1])"
      ],
      "execution_count": 22,
      "outputs": [
        {
          "output_type": "stream",
          "text": [
            "313/313 [==============================] - 4s 12ms/step - loss: 0.0348 - accuracy: 0.9888\n",
            "\n",
            "Test loss: 0.034810978919267654\n",
            "Test accuracy: 0.9887999892234802\n"
          ],
          "name": "stdout"
        }
      ]
    },
    {
      "cell_type": "markdown",
      "metadata": {
        "id": "OkAxeQ-8-hNi"
      },
      "source": [
        "# Make predictions"
      ]
    },
    {
      "cell_type": "code",
      "metadata": {
        "colab": {
          "base_uri": "https://localhost:8080/"
        },
        "id": "uGItKFlN-iIr",
        "outputId": "40a5512c-8f42-40f6-f386-37c41ffaa92b"
      },
      "source": [
        "#predict first 4 images in the test set\r\n",
        "model.predict_classes(X_test[:4])"
      ],
      "execution_count": 24,
      "outputs": [
        {
          "output_type": "execute_result",
          "data": {
            "text/plain": [
              "array([7, 2, 1, 0])"
            ]
          },
          "metadata": {
            "tags": []
          },
          "execution_count": 24
        }
      ]
    },
    {
      "cell_type": "code",
      "metadata": {
        "colab": {
          "base_uri": "https://localhost:8080/"
        },
        "id": "ue3Bg1uK-lU3",
        "outputId": "479c349b-61f3-4786-df19-ac702e71aa01"
      },
      "source": [
        "#predict first 4 images in the test set\r\n",
        "model.predict(X_test[:4])"
      ],
      "execution_count": 25,
      "outputs": [
        {
          "output_type": "execute_result",
          "data": {
            "text/plain": [
              "array([[4.3508745e-11, 5.5577201e-09, 3.2012558e-08, 2.8436233e-09,\n",
              "        2.2232287e-09, 5.7946491e-11, 5.7529166e-13, 9.9999964e-01,\n",
              "        4.0920362e-10, 4.1273356e-07],\n",
              "       [1.0461855e-07, 1.8336944e-07, 9.9999964e-01, 1.8937839e-10,\n",
              "        3.4216338e-10, 7.1998092e-14, 2.5836187e-09, 2.0432472e-11,\n",
              "        1.0092963e-09, 1.1672176e-11],\n",
              "       [3.0586374e-08, 9.9999642e-01, 4.1803608e-07, 7.4485612e-11,\n",
              "        9.1727408e-08, 6.7047505e-09, 3.6099824e-08, 2.7537310e-06,\n",
              "        1.9672680e-07, 1.5063838e-08],\n",
              "       [9.9999940e-01, 1.2719936e-10, 3.2615515e-07, 1.7418321e-10,\n",
              "        3.2996592e-10, 7.9837893e-11, 1.1766033e-07, 2.9635623e-09,\n",
              "        4.7274202e-09, 1.2473525e-07]], dtype=float32)"
            ]
          },
          "metadata": {
            "tags": []
          },
          "execution_count": 25
        }
      ]
    },
    {
      "cell_type": "code",
      "metadata": {
        "colab": {
          "base_uri": "https://localhost:8080/"
        },
        "id": "iONe55bT-nTV",
        "outputId": "1254b901-a1ea-42e1-f31c-f51aeed192c3"
      },
      "source": [
        "#actual results for first 4 images in test set\r\n",
        "Y_test[:4]"
      ],
      "execution_count": 28,
      "outputs": [
        {
          "output_type": "execute_result",
          "data": {
            "text/plain": [
              "array([[0., 0., 0., 0., 0., 0., 0., 1., 0., 0.],\n",
              "       [0., 0., 1., 0., 0., 0., 0., 0., 0., 0.],\n",
              "       [0., 1., 0., 0., 0., 0., 0., 0., 0., 0.],\n",
              "       [1., 0., 0., 0., 0., 0., 0., 0., 0., 0.]], dtype=float32)"
            ]
          },
          "metadata": {
            "tags": []
          },
          "execution_count": 28
        }
      ]
    }
  ]
}